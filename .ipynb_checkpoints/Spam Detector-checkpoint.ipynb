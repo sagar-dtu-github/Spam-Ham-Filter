{
 "cells": [
  {
   "cell_type": "code",
   "execution_count": 1,
   "metadata": {},
   "outputs": [],
   "source": [
    "import os  \n",
    "#The OS module in Python provides a way of using operating system dependent functionality.\n",
    "\n",
    "from collections import Counter\n",
    "# A Counter is a dict subclass for counting hashable objects. \n",
    "# It is an unordered collection where elements are stored as dictionary keys and their counts are stored as dictionary values.\n",
    "\n",
    "from sklearn.naive_bayes import MultinomialNB   \n",
    "# used to apply function of naive bayes\n",
    "\n",
    "from sklearn.model_selection import train_test_split as tts \n",
    "# break the whole dataset into 2 segments randomly as training and testing dataset.\n",
    "\n",
    "from sklearn.metrics import accuracy_score   \n",
    "# to calculate accuracy of the classifier\n",
    "\n",
    "import pickle as c\n",
    "# for turning an arbitrary Python object into a series of bytes"
   ]
  },
  {
   "cell_type": "code",
   "execution_count": 2,
   "metadata": {},
   "outputs": [],
   "source": [
    "def load_classifier(clf_file):\n",
    "    clf = c.load(open(clf_file, 'rb'))\n",
    "    return clf"
   ]
  },
  {
   "cell_type": "code",
   "execution_count": 3,
   "metadata": {},
   "outputs": [],
   "source": [
    "clf = load_classifier(\"spam-classifier.sav\")"
   ]
  },
  {
   "cell_type": "code",
   "execution_count": 4,
   "metadata": {},
   "outputs": [],
   "source": [
    "def make_dictionary():\n",
    "    directory = \"emails/\"\n",
    "    files = os.listdir(directory)    # creates a list of all the mails in emails folder\n",
    "    emails = [directory + email for email in files]  # emails/ham or spam name.\n",
    "    words = []  #list of words\n",
    "    length = len(emails)   # calculating length of list()\n",
    "    \n",
    "    for email in emails:  # iterating through each mail in emails list\n",
    "        f = open(email, errors='ignore')   # f is file type variable\n",
    "        blob = f.read()   # blob is string type variable to read each mail in emails list\n",
    "        words += blob.split(\" \")\n",
    "        \n",
    "    # now we have created a list of every word in the emails folder\n",
    "    for i in range(len(words)):     \n",
    "        if not words[i].isalpha(): # if word are not alphabet we replace it with an empty string\n",
    "            words[i] = \"\"\n",
    "\n",
    "    dictionary = Counter(words)  # this is the dictionary of words  : frequency(decreasing order)\n",
    "    del dictionary[\"\"]   # deleting empty strings from the dictionary\n",
    "    return dictionary.most_common(1000)   # returning a list of 1000 key(words)-value(frequency) pairs\n",
    "    # for e.g. [('the', 22003), ('to', 16118)]\n"
   ]
  },
  {
   "cell_type": "code",
   "execution_count": 5,
   "metadata": {},
   "outputs": [],
   "source": [
    "d = make_dictionary()"
   ]
  },
  {
   "cell_type": "code",
   "execution_count": 6,
   "metadata": {},
   "outputs": [
    {
     "name": "stdout",
     "output_type": "stream",
     "text": [
      ">>>offer sale\n",
      "It's a Spam!\n",
      ">>>placement done\n",
      "Not a Spam\n",
      ">>>exit\n"
     ]
    }
   ],
   "source": [
    "while True:\n",
    "    features = []\n",
    "    inp = input(\">>>\").split()\n",
    "    if inp[0] == \"exit\":\n",
    "        break\n",
    "    for word in d:\n",
    "        features.append(inp.count(word[0]))\n",
    "    res = clf.predict([features])\n",
    "    print([\"Not a Spam\", \"It's a Spam!\"][res[0]])"
   ]
  },
  {
   "cell_type": "code",
   "execution_count": null,
   "metadata": {},
   "outputs": [],
   "source": []
  }
 ],
 "metadata": {
  "kernelspec": {
   "display_name": "Python 3",
   "language": "python",
   "name": "python3"
  },
  "language_info": {
   "codemirror_mode": {
    "name": "ipython",
    "version": 3
   },
   "file_extension": ".py",
   "mimetype": "text/x-python",
   "name": "python",
   "nbconvert_exporter": "python",
   "pygments_lexer": "ipython3",
   "version": "3.6.5"
  }
 },
 "nbformat": 4,
 "nbformat_minor": 2
}
